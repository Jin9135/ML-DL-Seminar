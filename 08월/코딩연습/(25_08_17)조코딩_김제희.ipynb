{
  "nbformat": 4,
  "nbformat_minor": 0,
  "metadata": {
    "colab": {
      "provenance": []
    },
    "kernelspec": {
      "name": "python3",
      "display_name": "Python 3"
    },
    "language_info": {
      "name": "python"
    }
  },
  "cells": [
    {
      "cell_type": "code",
      "execution_count": 2,
      "metadata": {
        "colab": {
          "base_uri": "https://localhost:8080/"
        },
        "id": "AUN8P00hbFvG",
        "outputId": "3ee534d7-ceaf-4bbb-f722-ec999ce9d852"
      },
      "outputs": [
        {
          "output_type": "execute_result",
          "data": {
            "text/plain": [
              "bytes"
            ]
          },
          "metadata": {},
          "execution_count": 2
        }
      ],
      "source": [
        "a = \"Life is too short\"\n",
        "b = a.encode('utf-8')\n",
        "b\n",
        "type(b)"
      ]
    },
    {
      "cell_type": "code",
      "source": [
        "'''a ='한글'\n",
        "a.encode(\"ascii\")''' #한글일 땐 오류\n",
        "a = '한글'\n",
        "print(a.encode('euc-kr'))\n",
        "print(a.encode('utf-8'))"
      ],
      "metadata": {
        "colab": {
          "base_uri": "https://localhost:8080/"
        },
        "id": "I29jeiS9cAal",
        "outputId": "37708830-6e36-4d8e-877e-52ba20a69ee6"
      },
      "execution_count": 4,
      "outputs": [
        {
          "output_type": "stream",
          "name": "stdout",
          "text": [
            "b'\\xc7\\xd1\\xb1\\xdb'\n",
            "b'\\xed\\x95\\x9c\\xea\\xb8\\x80'\n"
          ]
        }
      ]
    },
    {
      "cell_type": "code",
      "source": [
        "a = '한글'\n",
        "b = a.encode('euc-kr')\n",
        "b.decode('euc-kr')"
      ],
      "metadata": {
        "colab": {
          "base_uri": "https://localhost:8080/",
          "height": 35
        },
        "id": "mDYRF6XocdEK",
        "outputId": "7e001396-b68e-435d-ca71-386377c5164f"
      },
      "execution_count": 5,
      "outputs": [
        {
          "output_type": "execute_result",
          "data": {
            "text/plain": [
              "'한글'"
            ],
            "application/vnd.google.colaboratory.intrinsic+json": {
              "type": "string"
            }
          },
          "metadata": {},
          "execution_count": 5
        }
      ]
    },
    {
      "cell_type": "code",
      "source": [
        "with open('euc_kr.txt', encoding='euc-kr') as f:\n",
        "  data = f.read()\n",
        "data = data + \"\\n\" + '추가 문자열'\n",
        "\n",
        "with open('euc_kr.txt', encoding='euc-kr', mode='w') as f:\n",
        "  f.write(data)"
      ],
      "metadata": {
        "colab": {
          "base_uri": "https://localhost:8080/",
          "height": 219
        },
        "id": "qp6YpJQ2cp8e",
        "outputId": "b69bec3f-2c76-4a6e-ccf9-aad393c98142"
      },
      "execution_count": 6,
      "outputs": [
        {
          "output_type": "error",
          "ename": "FileNotFoundError",
          "evalue": "[Errno 2] No such file or directory: 'euc_kr.txt'",
          "traceback": [
            "\u001b[0;31m---------------------------------------------------------------------------\u001b[0m",
            "\u001b[0;31mFileNotFoundError\u001b[0m                         Traceback (most recent call last)",
            "\u001b[0;32m/tmp/ipython-input-548694902.py\u001b[0m in \u001b[0;36m<cell line: 0>\u001b[0;34m()\u001b[0m\n\u001b[0;32m----> 1\u001b[0;31m \u001b[0;32mwith\u001b[0m \u001b[0mopen\u001b[0m\u001b[0;34m(\u001b[0m\u001b[0;34m'euc_kr.txt'\u001b[0m\u001b[0;34m,\u001b[0m \u001b[0mencoding\u001b[0m\u001b[0;34m=\u001b[0m\u001b[0;34m'euc-kr'\u001b[0m\u001b[0;34m)\u001b[0m \u001b[0;32mas\u001b[0m \u001b[0mf\u001b[0m\u001b[0;34m:\u001b[0m\u001b[0;34m\u001b[0m\u001b[0;34m\u001b[0m\u001b[0m\n\u001b[0m\u001b[1;32m      2\u001b[0m   \u001b[0mdata\u001b[0m \u001b[0;34m=\u001b[0m \u001b[0mf\u001b[0m\u001b[0;34m.\u001b[0m\u001b[0mread\u001b[0m\u001b[0;34m(\u001b[0m\u001b[0;34m)\u001b[0m\u001b[0;34m\u001b[0m\u001b[0;34m\u001b[0m\u001b[0m\n\u001b[1;32m      3\u001b[0m \u001b[0mdata\u001b[0m \u001b[0;34m=\u001b[0m \u001b[0mdata\u001b[0m \u001b[0;34m+\u001b[0m \u001b[0;34m\"\\n\"\u001b[0m \u001b[0;34m+\u001b[0m \u001b[0;34m'추가 문자열'\u001b[0m\u001b[0;34m\u001b[0m\u001b[0;34m\u001b[0m\u001b[0m\n\u001b[1;32m      4\u001b[0m \u001b[0;34m\u001b[0m\u001b[0m\n\u001b[1;32m      5\u001b[0m \u001b[0;32mwith\u001b[0m \u001b[0mopen\u001b[0m\u001b[0;34m(\u001b[0m\u001b[0;34m'euc_kr.txt'\u001b[0m\u001b[0;34m,\u001b[0m \u001b[0mencoding\u001b[0m\u001b[0;34m=\u001b[0m\u001b[0;34m'euc-kr'\u001b[0m\u001b[0;34m,\u001b[0m \u001b[0mmode\u001b[0m\u001b[0;34m=\u001b[0m\u001b[0;34m'w'\u001b[0m\u001b[0;34m)\u001b[0m \u001b[0;32mas\u001b[0m \u001b[0mf\u001b[0m\u001b[0;34m:\u001b[0m\u001b[0;34m\u001b[0m\u001b[0;34m\u001b[0m\u001b[0m\n",
            "\u001b[0;31mFileNotFoundError\u001b[0m: [Errno 2] No such file or directory: 'euc_kr.txt'"
          ]
        }
      ]
    },
    {
      "cell_type": "code",
      "source": [
        "#클로저\n",
        "def mul3(n) :\n",
        "  return n*3\n",
        "def mul5(n) :\n",
        "  return n*5 #이렇게 여러개를 만들기엔 비효율적. > 클래스로 해결\n",
        ""
      ],
      "metadata": {
        "id": "VQWLBtIadKMA"
      },
      "execution_count": null,
      "outputs": []
    },
    {
      "cell_type": "code",
      "source": [
        "class Mul:\n",
        "  def __init__(self, m):\n",
        "    self.m = m\n",
        "  def mul(self, n) :\n",
        "    return self.m *n\n",
        "if __name__ == \"__main__\" :\n",
        "  mul3 = Mul(3)\n",
        "  mul5 = Mul(5)\n",
        "  print(mul3.mul(10))\n",
        "  print(mul5.mul(10))"
      ],
      "metadata": {
        "colab": {
          "base_uri": "https://localhost:8080/"
        },
        "id": "MyAX9onadd8M",
        "outputId": "507ce5d7-1b9a-4bfc-ec88-8db04f51d520"
      },
      "execution_count": 7,
      "outputs": [
        {
          "output_type": "stream",
          "name": "stdout",
          "text": [
            "30\n",
            "50\n"
          ]
        }
      ]
    },
    {
      "cell_type": "code",
      "source": [
        "class Mul:\n",
        "  def __init__(self, m) :\n",
        "    self.m = m\n",
        "  def __call__(self,n) :\n",
        "    return self.m*n\n",
        "if __name__ == \"__main__\":\n",
        "  mul3 = Mul(3)\n",
        "  mul5 = Mul(5)\n",
        "\n",
        "  print(mul3(10))\n",
        "  print(mul5(10))"
      ],
      "metadata": {
        "colab": {
          "base_uri": "https://localhost:8080/"
        },
        "id": "A03e7UHLfUCc",
        "outputId": "0d2ffe6b-f28f-4b6e-bd38-7780465983d6"
      },
      "execution_count": 8,
      "outputs": [
        {
          "output_type": "stream",
          "name": "stdout",
          "text": [
            "30\n",
            "50\n"
          ]
        }
      ]
    },
    {
      "cell_type": "code",
      "source": [
        "def mul(m) :\n",
        "  def wrapper(n) :\n",
        "    return m*n\n",
        "  return wrapper\n",
        "if __name__ == '__main__' :\n",
        "  mul3 = mul(3)\n",
        "  mul5 = mul(5)\n",
        "  print(mul3(10))\n",
        "  print(mul5(10))\n"
      ],
      "metadata": {
        "id": "l1NjxGBuf5G9"
      },
      "execution_count": null,
      "outputs": []
    },
    {
      "cell_type": "code",
      "source": [
        "#데코레이터\n",
        "def myfunc():\n",
        "  print('함수가 실행')"
      ],
      "metadata": {
        "id": "NAobalp2iLdb"
      },
      "execution_count": 9,
      "outputs": []
    },
    {
      "cell_type": "code",
      "source": [
        "import time\n",
        "def myfunc():\n",
        "  start = time.time()\n",
        "  print('함수가 실행됩니다.')\n",
        "  end = time.time()\n",
        "  print(\"함수 수행시간 : %f 초\" % (end-start))\n",
        "myfunc() #하지만 비효율적"
      ],
      "metadata": {
        "colab": {
          "base_uri": "https://localhost:8080/"
        },
        "id": "yGpiDLO2iQdj",
        "outputId": "ee5201d5-13c3-4a10-a712-d48ff4ba778e"
      },
      "execution_count": 10,
      "outputs": [
        {
          "output_type": "stream",
          "name": "stdout",
          "text": [
            "함수가 실행됩니다.\n",
            "함수 수행시간 : 0.000059 초\n"
          ]
        }
      ]
    },
    {
      "cell_type": "code",
      "source": [
        "#클로저를 이용\n",
        "import time\n",
        "def elapsed(original_func) :\n",
        "  def wrapper() :\n",
        "    start = time.time()\n",
        "    result = original_func()\n",
        "    end = time.time()\n",
        "    print(\"함수 수행시간: %f 초\"%(end-start))\n",
        "\n",
        "    return result\n",
        "  return wrapper\n",
        "def myfunc():\n",
        "  print(\"함수가 실행됩니다.\")\n",
        "decorated_myfunc = elapsed(myfunc)\n",
        "decorated_myfunc()"
      ],
      "metadata": {
        "colab": {
          "base_uri": "https://localhost:8080/"
        },
        "id": "vkRQUS19jcHf",
        "outputId": "b773416f-b7b8-4e1c-df05-813aa46de82d"
      },
      "execution_count": 11,
      "outputs": [
        {
          "output_type": "stream",
          "name": "stdout",
          "text": [
            "함수가 실행됩니다.\n",
            "함수 수행시간: 0.000054 초\n"
          ]
        }
      ]
    },
    {
      "cell_type": "code",
      "source": [
        "import time\n",
        "def elapsed(original_func):\n",
        "  def wrapper(*args, **kwargs) :\n",
        "    start = time.time()\n",
        "    result = original_func(*args, **kwargs)\n",
        "    end = time.time()\n",
        "    print(\"함수 수행시간: %\"% (end-start))\n",
        "    return result\n",
        "  return wrapper\n",
        "@elapsed\n",
        "def myfunc(msg) :\n",
        "  print(\"'%s'을 출력합니다.\" % msg)\n",
        "myfunc(\"You need python\")"
      ],
      "metadata": {
        "colab": {
          "base_uri": "https://localhost:8080/",
          "height": 327
        },
        "id": "x3G4vBaHk7Sp",
        "outputId": "bd0a9f36-7220-4294-9242-2031e48ecf45"
      },
      "execution_count": 12,
      "outputs": [
        {
          "output_type": "stream",
          "name": "stdout",
          "text": [
            "'You need python'을 출력합니다.\n"
          ]
        },
        {
          "output_type": "error",
          "ename": "ValueError",
          "evalue": "incomplete format",
          "traceback": [
            "\u001b[0;31m---------------------------------------------------------------------------\u001b[0m",
            "\u001b[0;31mValueError\u001b[0m                                Traceback (most recent call last)",
            "\u001b[0;32m/tmp/ipython-input-3965922205.py\u001b[0m in \u001b[0;36m<cell line: 0>\u001b[0;34m()\u001b[0m\n\u001b[1;32m     11\u001b[0m \u001b[0;32mdef\u001b[0m \u001b[0mmyfunc\u001b[0m\u001b[0;34m(\u001b[0m\u001b[0mmsg\u001b[0m\u001b[0;34m)\u001b[0m \u001b[0;34m:\u001b[0m\u001b[0;34m\u001b[0m\u001b[0;34m\u001b[0m\u001b[0m\n\u001b[1;32m     12\u001b[0m   \u001b[0mprint\u001b[0m\u001b[0;34m(\u001b[0m\u001b[0;34m\"'%s'을 출력합니다.\"\u001b[0m \u001b[0;34m%\u001b[0m \u001b[0mmsg\u001b[0m\u001b[0;34m)\u001b[0m\u001b[0;34m\u001b[0m\u001b[0;34m\u001b[0m\u001b[0m\n\u001b[0;32m---> 13\u001b[0;31m \u001b[0mmyfunc\u001b[0m\u001b[0;34m(\u001b[0m\u001b[0;34m\"You need python\"\u001b[0m\u001b[0;34m)\u001b[0m\u001b[0;34m\u001b[0m\u001b[0;34m\u001b[0m\u001b[0m\n\u001b[0m",
            "\u001b[0;32m/tmp/ipython-input-3965922205.py\u001b[0m in \u001b[0;36mwrapper\u001b[0;34m(*args, **kwargs)\u001b[0m\n\u001b[1;32m      5\u001b[0m     \u001b[0mresult\u001b[0m \u001b[0;34m=\u001b[0m \u001b[0moriginal_func\u001b[0m\u001b[0;34m(\u001b[0m\u001b[0;34m*\u001b[0m\u001b[0margs\u001b[0m\u001b[0;34m,\u001b[0m \u001b[0;34m**\u001b[0m\u001b[0mkwargs\u001b[0m\u001b[0;34m)\u001b[0m\u001b[0;34m\u001b[0m\u001b[0;34m\u001b[0m\u001b[0m\n\u001b[1;32m      6\u001b[0m     \u001b[0mend\u001b[0m \u001b[0;34m=\u001b[0m \u001b[0mtime\u001b[0m\u001b[0;34m.\u001b[0m\u001b[0mtime\u001b[0m\u001b[0;34m(\u001b[0m\u001b[0;34m)\u001b[0m\u001b[0;34m\u001b[0m\u001b[0;34m\u001b[0m\u001b[0m\n\u001b[0;32m----> 7\u001b[0;31m     \u001b[0mprint\u001b[0m\u001b[0;34m(\u001b[0m\u001b[0;34m\"함수 수행시간: %\"\u001b[0m\u001b[0;34m%\u001b[0m \u001b[0;34m(\u001b[0m\u001b[0mend\u001b[0m\u001b[0;34m-\u001b[0m\u001b[0mstart\u001b[0m\u001b[0;34m)\u001b[0m\u001b[0;34m)\u001b[0m\u001b[0;34m\u001b[0m\u001b[0;34m\u001b[0m\u001b[0m\n\u001b[0m\u001b[1;32m      8\u001b[0m     \u001b[0;32mreturn\u001b[0m \u001b[0mresult\u001b[0m\u001b[0;34m\u001b[0m\u001b[0;34m\u001b[0m\u001b[0m\n\u001b[1;32m      9\u001b[0m   \u001b[0;32mreturn\u001b[0m \u001b[0mwrapper\u001b[0m\u001b[0;34m\u001b[0m\u001b[0;34m\u001b[0m\u001b[0m\n",
            "\u001b[0;31mValueError\u001b[0m: incomplete format"
          ]
        }
      ]
    }
  ]
}