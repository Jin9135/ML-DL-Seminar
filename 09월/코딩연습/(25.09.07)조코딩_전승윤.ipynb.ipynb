{
 "cells": [
  {
   "cell_type": "code",
   "execution_count": null,
   "id": "25d40e1a",
   "metadata": {},
   "outputs": [],
   "source": [
    "a = \"Life is too short\"\n",
    "b = a.encode('utf-8')\n",
    "\n",
    "print(type(b))"
   ]
  },
  {
   "cell_type": "code",
   "execution_count": null,
   "id": "50bff87f",
   "metadata": {},
   "outputs": [],
   "source": [
    "a = \"한글\"\n",
    "a.encode(\"ascii\")\n",
    "a.encode('euc-kr')\n",
    "a.encode('utf-8')"
   ]
  },
  {
   "cell_type": "code",
   "execution_count": null,
   "id": "aef86299",
   "metadata": {},
   "outputs": [],
   "source": [
    "a = '한글'\n",
    "b = a.encode('euc-kr')\n",
    "print(b.decode('euc-kr'))"
   ]
  },
  {
   "cell_type": "code",
   "execution_count": null,
   "id": "adfc9315",
   "metadata": {},
   "outputs": [],
   "source": [
    "# euc_kr.py\n",
    "# 1. euc-kr로 작성된 파일 읽기\n",
    "with open('euc_kr.txt', encoding='euc-kr') as f:\n",
    "    data = f.read()  # 유니코드 문자열 \n",
    "\n",
    "# 2. unicode 문자열로 프로그램 수행하기\n",
    "data = data + \"\\n\" + \"추가 문자열\"\n",
    "\n",
    "# 3. euc-kr로 수정된 문자열 저장하기\n",
    "with open('euc_kr.txt', encoding='euc-kr', mode='w') as f:\n",
    "    f.write(data)"
   ]
  },
  {
   "cell_type": "code",
   "execution_count": null,
   "id": "dcfa9b04",
   "metadata": {},
   "outputs": [],
   "source": [
    "# closure.py\n",
    "class Mul:\n",
    "    def __init__(self, m):\n",
    "        self.m = m\n",
    "\n",
    "    def mul(self, n):\n",
    "        return self.m * n\n",
    "\n",
    "if __name__ == \"__main__\":\n",
    "    mul3 = Mul(3)\n",
    "    mul5 = Mul(5)\n",
    "\n",
    "    print(mul3.mul(10))  # 30 출력\n",
    "    print(mul5.mul(10))  # 50 출력\n"
   ]
  },
  {
   "cell_type": "code",
   "execution_count": null,
   "id": "620536ad",
   "metadata": {},
   "outputs": [],
   "source": [
    "# closure.py\n",
    "class Mul:\n",
    "    def __init__(self, m):\n",
    "        self.m = m\n",
    "\n",
    "    def __call__(self, n):\n",
    "        return self.m * n\n",
    "\n",
    "if __name__ == \"__main__\":\n",
    "    mul3 = Mul(3)\n",
    "    mul5 = Mul(5)\n",
    "\n",
    "    print(mul3(10))  # 30 출력\n",
    "    print(mul5(10))  # 50 출력\n"
   ]
  },
  {
   "cell_type": "code",
   "execution_count": null,
   "id": "9e7c96ee",
   "metadata": {},
   "outputs": [],
   "source": [
    "# wrapper.py\n",
    "def mul(m):\n",
    "    def wrapper(n):\n",
    "        return m * n\n",
    "    return wrapper\n",
    "\n",
    "if __name__ == \"__main__\":\n",
    "    mul3 = mul(3)\n",
    "    mul5 = mul(5)\n",
    "\n",
    "    print(mul3(10))  # 30 출력\n",
    "    print(mul5(10))  # 50 출력\n"
   ]
  },
  {
   "cell_type": "code",
   "execution_count": null,
   "id": "6815bd0b",
   "metadata": {},
   "outputs": [],
   "source": [
    "import time\n",
    "\n",
    "def myfunc():\n",
    "    start = time.time()\n",
    "    print(\"함수가 실행됩니다.\")\n",
    "    end = time.time()\n",
    "    print(\"함수 수행시간: %f 초\" % (end-start))\n",
    "\n",
    "myfunc()\n"
   ]
  },
  {
   "cell_type": "code",
   "execution_count": null,
   "id": "b91b8616",
   "metadata": {},
   "outputs": [],
   "source": [
    "# decorator.py\n",
    "import time\n",
    "\n",
    "def elapsed(original_func):   # 기존 함수를 인수로 받는다.\n",
    "    def wrapper():\n",
    "        start = time.time()\n",
    "        result = original_func()    # 기존 함수를 수행한다.\n",
    "        end = time.time()\n",
    "        print(\"함수 수행시간: %f 초\" % (end - start))  # 기존 함수의 수행시간을 출력한다.\n",
    "        return result  # 기존 함수의 수행 결과를 반환한다.\n",
    "    return wrapper\n",
    "\n",
    "def myfunc():\n",
    "    print(\"함수가 실행됩니다.\")\n",
    "\n",
    "decorated_myfunc = elapsed(myfunc)\n",
    "decorated_myfunc()\n"
   ]
  },
  {
   "cell_type": "code",
   "execution_count": null,
   "id": "9445245f",
   "metadata": {},
   "outputs": [],
   "source": [
    "# decorator.py\n",
    "import time\n",
    "\n",
    "def elapsed(original_func):   # 기존 함수를 인수로 받는다.\n",
    "    def wrapper():\n",
    "        start = time.time()\n",
    "        result = original_func()    # 기존 함수를 수행한다.\n",
    "        end = time.time()\n",
    "        print(\"함수 수행시간: %f 초\" % (end - start))  # 기존 함수의 수행시간을 출력한다.\n",
    "        return result  # 기존 함수의 수행 결과를 반환한다.\n",
    "    return wrapper\n",
    "\n",
    "@elapsed\n",
    "def myfunc():\n",
    "    print(\"함수가 실행됩니다.\")\n",
    "\n",
    "# decorated_myfunc = elapsed(myfunc)  # @elapsed 데코레이터로 인해 더이상 필요하지 않다.\n",
    "# decorated_myfunc()\n",
    "\n",
    "myfunc()\n"
   ]
  },
  {
   "cell_type": "code",
   "execution_count": null,
   "id": "459657f4",
   "metadata": {},
   "outputs": [],
   "source": [
    "# decorator2.py\n",
    "import time\n",
    "\n",
    "def elapsed(original_func):   # 기존 함수를 인수로 받는다.\n",
    "    def wrapper(*args, **kwargs):   # *args, **kwargs 매개변수 추가\n",
    "        start = time.time()\n",
    "        result = original_func(*args, **kwargs)  # 전달받은 *args, **kwargs를 입력파라미터로 기존함수 수행\n",
    "        end = time.time()\n",
    "        print(\"함수 수행시간: %f 초\" % (end - start))  # 수행시간을 출력한다.\n",
    "        return result  # 함수의 결과를 반환한다.\n",
    "    return wrapper\n",
    "\n",
    "@elapsed\n",
    "def myfunc(msg):\n",
    "    \"\"\" 데코레이터 확인 함수 \"\"\"\n",
    "    print(\"'%s'을 출력합니다.\" % msg)\n",
    "\n",
    "myfunc(\"You need python\")\n"
   ]
  },
  {
   "cell_type": "code",
   "execution_count": null,
   "id": "72ef041e",
   "metadata": {},
   "outputs": [],
   "source": [
    "a = [1, 2, 3]\n",
    "ia = iter(a)\n",
    "for i in ia:\n",
    "    print(i)\n",
    " "
   ]
  },
  {
   "cell_type": "code",
   "execution_count": null,
   "id": "1b68ce19",
   "metadata": {},
   "outputs": [],
   "source": [
    "# iterator.py\n",
    "class MyIterator:\n",
    "    def __init__(self, data):\n",
    "        self.data = data\n",
    "        self.position = 0\n",
    "\n",
    "    def __iter__(self):\n",
    "        return self\n",
    "\n",
    "    def __next__(self):\n",
    "        if self.position >= len(self.data):\n",
    "            raise StopIteration\n",
    "        result = self.data[self.position]\n",
    "        self.position += 1\n",
    "        return result\n",
    "\n",
    "if __name__ == \"__main__\":\n",
    "    i = MyIterator([1,2,3])\n",
    "    for item in i:\n",
    "        print(item)\n"
   ]
  },
  {
   "cell_type": "code",
   "execution_count": null,
   "id": "e488e4a4",
   "metadata": {},
   "outputs": [],
   "source": [
    "# reviterator.py\n",
    "class ReverseIterator:\n",
    "    def __init__(self, data):\n",
    "        self.data = data\n",
    "        self.position = len(self.data) -1\n",
    "\n",
    "    def __iter__(self):\n",
    "        return self\n",
    "\n",
    "    def __next__(self):\n",
    "        if self.position < 0:\n",
    "            raise StopIteration\n",
    "        result = self.data[self.position]\n",
    "        self.position -= 1\n",
    "        return result\n",
    "\n",
    "if __name__ == \"__main__\":\n",
    "    i = ReverseIterator([1,2,3])\n",
    "    for item in i:\n",
    "        print(item)\n"
   ]
  },
  {
   "cell_type": "code",
   "execution_count": null,
   "id": "f2062584",
   "metadata": {},
   "outputs": [],
   "source": [
    "# generator.py\n",
    "def mygen():\n",
    "    for i in range(1, 1000):\n",
    "        result = i * i\n",
    "        yield result\n",
    "\n",
    "gen = mygen()\n",
    "\n",
    "print(next(gen))\n",
    "print(next(gen))\n",
    "print(next(gen))\n"
   ]
  },
  {
   "cell_type": "code",
   "execution_count": null,
   "id": "591c1b5b",
   "metadata": {},
   "outputs": [],
   "source": [
    "class MyIterator:\n",
    "    def __init__(self):\n",
    "        self.data = 1\n",
    "\n",
    "    def __iter__(self):\n",
    "        return self\n",
    "\n",
    "    def __next__(self):\n",
    "        result = self.data * self.data\n",
    "        self.data += 1\n",
    "        if self.data >= 1000:\n",
    "            raise StopIteration\n",
    "        return result\n"
   ]
  },
  {
   "cell_type": "code",
   "execution_count": null,
   "id": "e92752fb",
   "metadata": {},
   "outputs": [],
   "source": [
    "# generator2.py\n",
    "import time\n",
    "\n",
    "def longtime_job():\n",
    "    print(\"job start\")\n",
    "    time.sleep(1)  # 1초 지연 - 실제로는 데이터베이스 조회, 파일 처리 등을 시뮬레이션\n",
    "    return \"done\"\n",
    "\n",
    "# 리스트 컴프리헨션: 5번의 작업을 모두 실행해서 리스트로 만든다\n",
    "list_job = [longtime_job() for i in range(5)]\n",
    "print(list_job[0])  # 첫 번째 결과만 필요한 상황\n"
   ]
  },
  {
   "cell_type": "code",
   "execution_count": null,
   "id": "433c9dab",
   "metadata": {},
   "outputs": [],
   "source": [
    "# generator2.py\n",
    "import time\n",
    "\n",
    "def longtime_job():\n",
    "    print(\"job start\")\n",
    "    time.sleep(1)  # 1초 지연 - 실제로는 데이터베이스 조회, 파일 처리 등을 시뮬레이션\n",
    "    return \"done\"\n",
    "\n",
    "# 리스트 컴프리헨션: 5번의 작업을 모두 실행해서 리스트로 만든다\n",
    "list_job = [longtime_job() for i in range(5)]\n",
    "print(list_job[0])  # 첫 번째 결과만 필요한 상황\n"
   ]
  },
  {
   "cell_type": "code",
   "execution_count": null,
   "id": "9be1f7fe",
   "metadata": {},
   "outputs": [],
   "source": [
    "def add(a: int, b: int) -> int: \n",
    "    return a + b\n",
    "\n",
    "def greet(name: str) -> str:\n",
    "    return f\"안녕하세요, {name}님!\"\n",
    "\n",
    "def get_user_info(user_id: int) -> dict:\n",
    "    return {\"id\": user_id, \"name\": \"홍길동\"}\n"
   ]
  },
  {
   "cell_type": "code",
   "execution_count": null,
   "id": "e198d311",
   "metadata": {},
   "outputs": [],
   "source": [
    "num: int = 1\n",
    "name: str = \"홍길동\"\n",
    "numbers: list = [1, 2, 3]\n"
   ]
  },
  {
   "cell_type": "code",
   "execution_count": null,
   "id": "fa7a243c",
   "metadata": {},
   "outputs": [],
   "source": [
    "# 파이썬 3.5~3.8: typing 모듈 필수\n",
    "from typing import List, Dict, Tuple, Optional\n",
    "\n",
    "numbers: List[int] = [1, 2, 3]\n",
    "user_info: Dict[str, int] = {\"age\": 30}\n",
    "\n",
    "# 파이썬 3.9 이상: 내장 타입 사용 가능  \n",
    "numbers: list[int] = [1, 2, 3]\n",
    "user_info: dict[str, int] = {\"age\": 30}\n"
   ]
  },
  {
   "cell_type": "code",
   "execution_count": null,
   "id": "a9e4f253",
   "metadata": {},
   "outputs": [],
   "source": [
    "from typing import Optional, Union, Callable, Any\n",
    "\n",
    "# 1. Optional - None이 가능한 경우\n",
    "user_name: Optional[str] = None  # str 또는 None\n",
    "\n",
    "# 2. Union - 여러 타입이 가능한 경우  \n",
    "user_id: Union[int, str] = \"jenny\"  # 정수 또는 문자열 (user_id로 정수도 사용가능)\n",
    "\n",
    "# 3. Callable - 함수 타입 지정\n",
    "def process_data(callback: Callable[[int], str]) -> str:\n",
    "    return callback(42)\n",
    "\n",
    "# 4. Any - 모든 타입 허용 (비상시에만 사용)\n",
    "unknown_data: Any = {\"key\": \"value\"}\n",
    "\n",
    "# 5. 복잡한 중첩 구조\n",
    "nested_data: dict[str, list[Optional[int]]] = {\n",
    "    \"scores\": [95, None, 87, None]\n",
    "}\n"
   ]
  }
 ],
 "metadata": {
  "language_info": {
   "name": "python"
  }
 },
 "nbformat": 4,
 "nbformat_minor": 5
}
