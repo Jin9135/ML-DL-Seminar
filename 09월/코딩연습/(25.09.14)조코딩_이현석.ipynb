{
 "cells": [
  {
   "cell_type": "code",
   "execution_count": 1,
   "id": "72da2ccf-11d5-4e78-af0d-deff972a7127",
   "metadata": {},
   "outputs": [
    {
     "name": "stdout",
     "output_type": "stream",
     "text": [
      "3\n",
      "7\n"
     ]
    }
   ],
   "source": [
    "# calculator.py\n",
    "result = 0\n",
    "\n",
    "def add(num):\n",
    "    global result\n",
    "    result += num  # 결괏값(result)에 입력값(num) 더하기\n",
    "    return result  # 결괏값 리턴\n",
    "\n",
    "print(add(3))\n",
    "print(add(4))"
   ]
  },
  {
   "cell_type": "code",
   "execution_count": 2,
   "id": "3938e20f-1e08-4638-8dbd-0c84285d16a0",
   "metadata": {},
   "outputs": [
    {
     "name": "stdout",
     "output_type": "stream",
     "text": [
      "3\n",
      "7\n",
      "3\n",
      "10\n"
     ]
    }
   ],
   "source": [
    "# calculator2.py\n",
    "result1 = 0\n",
    "result2 = 0\n",
    "\n",
    "def add1(num):  # 계산기1\n",
    "    global result1\n",
    "    result1 += num\n",
    "    return result1\n",
    "\n",
    "def add2(num):  # 계산기2\n",
    "    global result2\n",
    "    result2 += num\n",
    "    return result2\n",
    "\n",
    "print(add1(3))\n",
    "print(add1(4))\n",
    "print(add2(3))\n",
    "print(add2(7))"
   ]
  },
  {
   "cell_type": "code",
   "execution_count": 3,
   "id": "9243c848-96b9-4f4f-a06d-7321b0738c2f",
   "metadata": {},
   "outputs": [
    {
     "name": "stdout",
     "output_type": "stream",
     "text": [
      "3\n",
      "7\n",
      "3\n",
      "10\n"
     ]
    }
   ],
   "source": [
    "# calculator3.py\n",
    "class Calculator:\n",
    "    def __init__(self):\n",
    "        self.result = 0\n",
    "\n",
    "    def add(self, num):\n",
    "        self.result += num\n",
    "        return self.result\n",
    "\n",
    "cal1 = Calculator()\n",
    "cal2 = Calculator()\n",
    "\n",
    "print(cal1.add(3))\n",
    "print(cal1.add(4))\n",
    "print(cal2.add(3))\n",
    "print(cal2.add(7))"
   ]
  },
  {
   "cell_type": "code",
   "execution_count": 4,
   "id": "a8ab7c19-676a-4b8e-9b64-90577c0512bb",
   "metadata": {},
   "outputs": [],
   "source": [
    "class Calculator:\n",
    "    def __init__(self):\n",
    "        self.result = 0\n",
    "\n",
    "    def add(self, num):\n",
    "        self.result += num\n",
    "        return self.result\n",
    "\n",
    "    def sub(self, num):\n",
    "        self.result -= num\n",
    "        return self.result"
   ]
  },
  {
   "cell_type": "code",
   "execution_count": 13,
   "id": "677a60e3-e373-49d7-8e02-d80960a730d4",
   "metadata": {},
   "outputs": [],
   "source": [
    "def setdata(self, first, second):   # 메서드의 매개변수\n",
    "    self.first = first              # 메서드의 수행문\n",
    "    self.second = second            # 메서드의 수행문"
   ]
  },
  {
   "cell_type": "code",
   "execution_count": 15,
   "id": "e9409629-dc27-4c48-850b-c8f32c39b43d",
   "metadata": {},
   "outputs": [],
   "source": [
    "class FourCal:\n",
    "     def setdata(self, first, second):\n",
    "         self.first = first\n",
    "         self.second = second\n",
    "     def add(self):\n",
    "         result = self.first + self.second\n",
    "         return result"
   ]
  },
  {
   "cell_type": "code",
   "execution_count": 16,
   "id": "e3a481ea-ceec-4df1-873d-73f56ea5d1ee",
   "metadata": {},
   "outputs": [],
   "source": [
    "a = FourCal()"
   ]
  },
  {
   "cell_type": "code",
   "execution_count": 17,
   "id": "f37da352-9ec2-4d2a-b014-68f4c09635ae",
   "metadata": {},
   "outputs": [],
   "source": [
    "a.setdata(4,2)"
   ]
  },
  {
   "cell_type": "code",
   "execution_count": 18,
   "id": "782e03a6-3ce8-442b-a765-9ebbf5379f3a",
   "metadata": {},
   "outputs": [
    {
     "data": {
      "text/plain": [
       "6"
      ]
     },
     "execution_count": 18,
     "metadata": {},
     "output_type": "execute_result"
    }
   ],
   "source": [
    "a.add()"
   ]
  },
  {
   "cell_type": "code",
   "execution_count": 19,
   "id": "51fb2f4d-4435-4139-a81f-ed20ebc67c7c",
   "metadata": {},
   "outputs": [],
   "source": [
    "class FourCal:\n",
    "     def setdata(self, first, second):\n",
    "         self.first = first\n",
    "         self.second = second\n",
    "     def add(self):\n",
    "         result = self.first + self.second\n",
    "         return result\n",
    "     def mul(self):\n",
    "         result = self.first * self.second\n",
    "         return result\n",
    "     def sub(self):\n",
    "         result = self.first - self.second\n",
    "         return result\n",
    "     def div(self):\n",
    "         result = self.first / self.second\n",
    "         return result"
   ]
  },
  {
   "cell_type": "code",
   "execution_count": 20,
   "id": "95c95f9c-eb0b-4cde-9048-faef6e5605c6",
   "metadata": {},
   "outputs": [
    {
     "data": {
      "text/plain": [
       "6"
      ]
     },
     "execution_count": 20,
     "metadata": {},
     "output_type": "execute_result"
    }
   ],
   "source": [
    "a = FourCal()\n",
    "b = FourCal()\n",
    "a.setdata(4,2)\n",
    "b.setdata(3,8)\n",
    "a.add()"
   ]
  },
  {
   "cell_type": "code",
   "execution_count": 21,
   "id": "1692cdb0-7cd8-4079-bc42-ee5d9aed69da",
   "metadata": {},
   "outputs": [
    {
     "data": {
      "text/plain": [
       "8"
      ]
     },
     "execution_count": 21,
     "metadata": {},
     "output_type": "execute_result"
    }
   ],
   "source": [
    "a.mul()"
   ]
  },
  {
   "cell_type": "code",
   "execution_count": 22,
   "id": "c5f20c71-b175-4df4-92fb-7f57a4cb1f2f",
   "metadata": {},
   "outputs": [
    {
     "data": {
      "text/plain": [
       "0.375"
      ]
     },
     "execution_count": 22,
     "metadata": {},
     "output_type": "execute_result"
    }
   ],
   "source": [
    "b.div()"
   ]
  },
  {
   "cell_type": "code",
   "execution_count": 23,
   "id": "885aedcd-e5d1-4653-ba3a-eb23a8979ac2",
   "metadata": {},
   "outputs": [],
   "source": [
    "# mod1.py\n",
    "def add(a, b):\n",
    "    return a + b\n",
    "\n",
    "def sub(a, b): \n",
    "    return a-b"
   ]
  },
  {
   "cell_type": "code",
   "execution_count": 24,
   "id": "9125df60-fe56-43d8-a00e-bbdd6caf2cd4",
   "metadata": {},
   "outputs": [
    {
     "ename": "SyntaxError",
     "evalue": "unexpected character after line continuation character (3311083067.py, line 1)",
     "output_type": "error",
     "traceback": [
      "\u001b[1;36m  Cell \u001b[1;32mIn[24], line 1\u001b[1;36m\u001b[0m\n\u001b[1;33m    C:\\Users\\pahkey>cd C:\\doit\u001b[0m\n\u001b[1;37m       ^\u001b[0m\n\u001b[1;31mSyntaxError\u001b[0m\u001b[1;31m:\u001b[0m unexpected character after line continuation character\n"
     ]
    }
   ],
   "source": []
  },
  {
   "cell_type": "code",
   "execution_count": null,
   "id": "631115c9-b39c-40a4-a61f-61ab6c494102",
   "metadata": {},
   "outputs": [],
   "source": []
  }
 ],
 "metadata": {
  "kernelspec": {
   "display_name": "Python 3 (ipykernel)",
   "language": "python",
   "name": "python3"
  },
  "language_info": {
   "codemirror_mode": {
    "name": "ipython",
    "version": 3
   },
   "file_extension": ".py",
   "mimetype": "text/x-python",
   "name": "python",
   "nbconvert_exporter": "python",
   "pygments_lexer": "ipython3",
   "version": "3.11.7"
  }
 },
 "nbformat": 4,
 "nbformat_minor": 5
}
