{
 "cells": [
  {
   "cell_type": "code",
   "execution_count": 1,
   "id": "07b96fbd-b00c-497d-8363-f5d934faa917",
   "metadata": {},
   "outputs": [],
   "source": [
    "def add(a, b): \n",
    "    return a + b"
   ]
  },
  {
   "cell_type": "code",
   "execution_count": 2,
   "id": "5fa5ccd4-5ad5-4018-9723-417828f8e707",
   "metadata": {},
   "outputs": [
    {
     "data": {
      "text/plain": [
       "3"
      ]
     },
     "execution_count": 2,
     "metadata": {},
     "output_type": "execute_result"
    }
   ],
   "source": [
    "add(1,2)"
   ]
  },
  {
   "cell_type": "code",
   "execution_count": 3,
   "id": "69d339f7-ec13-4fa8-aa11-8a3221e5205e",
   "metadata": {},
   "outputs": [
    {
     "name": "stdout",
     "output_type": "stream",
     "text": [
      "7\n"
     ]
    }
   ],
   "source": [
    "def add(a, b):  # a, b는 매개변수\n",
    "    return a+b\n",
    "\n",
    "print(add(3, 4))  # 3, 4는 인수"
   ]
  },
  {
   "cell_type": "code",
   "execution_count": 4,
   "id": "85c05f2a-f126-4bef-b420-e5b3c1a227fd",
   "metadata": {},
   "outputs": [],
   "source": [
    "def add(a, b): \n",
    "    result = a + b \n",
    "    return result"
   ]
  },
  {
   "cell_type": "code",
   "execution_count": 5,
   "id": "85c42915-fa44-4d66-b24e-7a6a4dcf1f4d",
   "metadata": {},
   "outputs": [
    {
     "name": "stdout",
     "output_type": "stream",
     "text": [
      "7\n"
     ]
    }
   ],
   "source": [
    "a = add(3,4)\n",
    "print(a)"
   ]
  },
  {
   "cell_type": "code",
   "execution_count": 6,
   "id": "14ee6e9f-666a-46e5-aaee-8fc869eb7b47",
   "metadata": {},
   "outputs": [],
   "source": [
    "def add(a, b): \n",
    "    print(\"%d, %d의 합은 %d입니다.\" % (a, b, a+b))"
   ]
  },
  {
   "cell_type": "code",
   "execution_count": 7,
   "id": "da48d1bd-5a4d-4ae1-a500-bdcc2546c551",
   "metadata": {},
   "outputs": [
    {
     "name": "stdout",
     "output_type": "stream",
     "text": [
      "3, 4의 합은 7입니다.\n"
     ]
    }
   ],
   "source": [
    "add(3,4)"
   ]
  },
  {
   "cell_type": "code",
   "execution_count": 8,
   "id": "6f2c1642-a7c7-494b-bc92-24209739d738",
   "metadata": {},
   "outputs": [],
   "source": [
    "def sub(a, b):\n",
    "    return a - b"
   ]
  },
  {
   "cell_type": "code",
   "execution_count": 9,
   "id": "afab8240-20ca-4851-abf3-9a22bc05b87c",
   "metadata": {},
   "outputs": [
    {
     "name": "stdout",
     "output_type": "stream",
     "text": [
      "4\n"
     ]
    }
   ],
   "source": [
    "result = sub(a=7,b=3)\n",
    "print(result)"
   ]
  },
  {
   "cell_type": "code",
   "execution_count": 10,
   "id": "f246aca1-92a3-439f-9f00-da974ae21daf",
   "metadata": {},
   "outputs": [],
   "source": [
    "def add_many(*args): \n",
    "    result = 0 \n",
    "    for i in args: \n",
    "        result = result + i   # *args에 입력받은 모든 값을 더한다.\n",
    "    return result "
   ]
  },
  {
   "cell_type": "code",
   "execution_count": 12,
   "id": "dfc357ec-cdd7-4169-9467-8456680f48da",
   "metadata": {},
   "outputs": [
    {
     "name": "stdout",
     "output_type": "stream",
     "text": [
      "6\n"
     ]
    }
   ],
   "source": [
    "result = add_many(1,2,3)\n",
    "print(result)"
   ]
  },
  {
   "cell_type": "code",
   "execution_count": 14,
   "id": "39ba98cc-5fc5-4d32-9e81-fa97b4e04b5f",
   "metadata": {},
   "outputs": [],
   "source": [
    "def add_mul(choice, *args): \n",
    "    if choice == \"add\":   # 매개변수 choice에 \"add\"를 입력받았을 때\n",
    "        result = 0 \n",
    "        for i in args: \n",
    "            result = result + i \n",
    "    elif choice == \"mul\":   # 매개변수 choice에 \"mul\"을 입력받았을 때\n",
    "        result = 1 \n",
    "        for i in args: \n",
    "            result = result * i \n",
    "    return result "
   ]
  },
  {
   "cell_type": "code",
   "execution_count": 15,
   "id": "4b261974-f89c-4749-8aa7-61646bd2e5b5",
   "metadata": {},
   "outputs": [
    {
     "name": "stdout",
     "output_type": "stream",
     "text": [
      "15\n"
     ]
    }
   ],
   "source": [
    "result = add_mul('add', 1,2,3,4,5)\n",
    "print(result)"
   ]
  },
  {
   "cell_type": "code",
   "execution_count": 16,
   "id": "735e9b95-15c7-47a7-919b-fda2e8f63956",
   "metadata": {},
   "outputs": [],
   "source": [
    "def print_kwargs(**kwargs):\n",
    "    print(kwargs)"
   ]
  },
  {
   "cell_type": "code",
   "execution_count": 17,
   "id": "e9e4b283-3187-4de2-a031-6c500313ce55",
   "metadata": {},
   "outputs": [
    {
     "name": "stdout",
     "output_type": "stream",
     "text": [
      "{'a': 1}\n"
     ]
    }
   ],
   "source": [
    "print_kwargs(a=1)"
   ]
  },
  {
   "cell_type": "code",
   "execution_count": 18,
   "id": "4be5b523-c778-40f1-ab4a-a9364dab1d7c",
   "metadata": {},
   "outputs": [],
   "source": [
    "def create_profile(**info):\n",
    "    print(\"=== 프로필 정보 ===\")\n",
    "    for key, value in info.items():\n",
    "        print(f\"{key}: {value}\")"
   ]
  },
  {
   "cell_type": "code",
   "execution_count": 19,
   "id": "9768f1fb-f763-4907-914a-1788afa224c0",
   "metadata": {},
   "outputs": [
    {
     "name": "stdout",
     "output_type": "stream",
     "text": [
      "=== 프로필 정보 ===\n",
      "이름: 김철수\n",
      "나이: 30\n",
      "직업: 프로그래머\n",
      "취미: 독서\n"
     ]
    }
   ],
   "source": [
    "create_profile(이름= '김철수', 나이 = 30, 직업 = '프로그래머', 취미 = '독서')"
   ]
  },
  {
   "cell_type": "code",
   "execution_count": 20,
   "id": "826755bd-01f6-4e16-941d-b936af8459e8",
   "metadata": {},
   "outputs": [
    {
     "name": "stdout",
     "output_type": "stream",
     "text": [
      "이름: 홍길동\n",
      "추가 인수들: (1, 2, 3)\n",
      "키워드 인수들: {'age': 25, 'city': '서울'}\n"
     ]
    }
   ],
   "source": [
    "def mixed_function(name, *args, **kwargs):\n",
    "    print(f\"이름: {name}\")\n",
    "    print(f\"추가 인수들: {args}\")\n",
    "    print(f\"키워드 인수들: {kwargs}\")\n",
    "\n",
    "mixed_function('홍길동', 1, 2, 3, age=25, city='서울')"
   ]
  },
  {
   "cell_type": "code",
   "execution_count": 21,
   "id": "2eef1035-2a04-49a6-b7c4-d8efa28f1e42",
   "metadata": {},
   "outputs": [],
   "source": [
    "# default1.py\n",
    "def say_myself(name, age, man=True): \n",
    "    print(\"나의 이름은 %s 입니다.\" % name) \n",
    "    print(\"나이는 %d살입니다.\" % age) \n",
    "    if man: \n",
    "        print(\"남자입니다.\")\n",
    "    else: \n",
    "        print(\"여자입니다.\")"
   ]
  },
  {
   "cell_type": "code",
   "execution_count": 22,
   "id": "67c0d1a5-7059-4435-b31f-e915489ae8b6",
   "metadata": {},
   "outputs": [
    {
     "name": "stdout",
     "output_type": "stream",
     "text": [
      "나의 이름은 박응용 입니다.\n",
      "나이는 27살입니다.\n",
      "남자입니다.\n"
     ]
    }
   ],
   "source": [
    "say_myself(\"박응용\",27)"
   ]
  },
  {
   "cell_type": "code",
   "execution_count": 24,
   "id": "7d08c732-6ba3-41f9-bd89-2bf251d45c9c",
   "metadata": {},
   "outputs": [
    {
     "name": "stdout",
     "output_type": "stream",
     "text": [
      "나의 이름은 박응선 입니다.\n",
      "나이는 27살입니다.\n",
      "여자입니다.\n"
     ]
    }
   ],
   "source": [
    "say_myself(\"박응선\",27,False)"
   ]
  },
  {
   "cell_type": "code",
   "execution_count": 25,
   "id": "8c8dd444-1599-4e7b-be8c-4cbcf011c0db",
   "metadata": {},
   "outputs": [
    {
     "name": "stdout",
     "output_type": "stream",
     "text": [
      "7\n"
     ]
    }
   ],
   "source": [
    "add = lambda a, b: a+b\n",
    "result = add(3, 4)\n",
    "print(result)"
   ]
  },
  {
   "cell_type": "code",
   "execution_count": 26,
   "id": "557e700c-4239-4b8d-bec0-06c2325cdb79",
   "metadata": {},
   "outputs": [
    {
     "name": "stdout",
     "output_type": "stream",
     "text": [
      "2\n"
     ]
    }
   ],
   "source": [
    "a = 1 \n",
    "def vartest(): \n",
    "    global a \n",
    "    a = a+1\n",
    "\n",
    "vartest() \n",
    "print(a)"
   ]
  },
  {
   "cell_type": "code",
   "execution_count": 27,
   "id": "832f3263-2d9e-4cc8-9d25-88603c52e88c",
   "metadata": {},
   "outputs": [
    {
     "name": "stdout",
     "output_type": "stream",
     "text": [
      "\n",
      "    두 숫자를 더하는 함수\n",
      "\n",
      "    Parameters:\n",
      "    a (int, float): 첫 번째 숫자\n",
      "    b (int, float): 두 번째 숫자\n",
      "\n",
      "    Returns:\n",
      "    int, float: 두 숫자의 합\n",
      "    \n"
     ]
    }
   ],
   "source": [
    "def add(a, b):\n",
    "    \"\"\"\n",
    "    두 숫자를 더하는 함수\n",
    "\n",
    "    Parameters:\n",
    "    a (int, float): 첫 번째 숫자\n",
    "    b (int, float): 두 번째 숫자\n",
    "\n",
    "    Returns:\n",
    "    int, float: 두 숫자의 합\n",
    "    \"\"\"\n",
    "    return a + b\n",
    "\n",
    "# 독스트링 확인하기\n",
    "print(add.__doc__)\n"
   ]
  },
  {
   "cell_type": "code",
   "execution_count": 29,
   "id": "d6099d8e-303c-475a-8f56-4f596b0b597b",
   "metadata": {},
   "outputs": [
    {
     "name": "stdin",
     "output_type": "stream",
     "text": [
      " Life is too short, you need python\n"
     ]
    }
   ],
   "source": [
    "a = input()"
   ]
  },
  {
   "cell_type": "code",
   "execution_count": 30,
   "id": "2c027cb1-579c-444a-96ea-4c23f084173b",
   "metadata": {},
   "outputs": [
    {
     "name": "stdin",
     "output_type": "stream",
     "text": [
      "나이를 입력하세요:  25\n"
     ]
    }
   ],
   "source": [
    "age = input(\"나이를 입력하세요: \")"
   ]
  },
  {
   "cell_type": "code",
   "execution_count": 31,
   "id": "b829af8f-cb87-4daf-8a76-6f0b74f9f210",
   "metadata": {},
   "outputs": [
    {
     "name": "stdout",
     "output_type": "stream",
     "text": [
      "26\n"
     ]
    }
   ],
   "source": [
    "age = int(age)\n",
    "print(age+1)"
   ]
  },
  {
   "cell_type": "code",
   "execution_count": 32,
   "id": "ada9415d-00d3-426d-b648-2d193166f609",
   "metadata": {},
   "outputs": [
    {
     "name": "stdout",
     "output_type": "stream",
     "text": [
      "0 1 2 3 4 5 6 7 8 9 "
     ]
    }
   ],
   "source": [
    "for i in range(10):\n",
    "    print(i, end=' ')"
   ]
  },
  {
   "cell_type": "code",
   "execution_count": 33,
   "id": "21a504d1-9262-40ce-8764-e5a159164528",
   "metadata": {},
   "outputs": [
    {
     "name": "stdout",
     "output_type": "stream",
     "text": [
      "=== 간단한 계산기 ===\n"
     ]
    },
    {
     "name": "stdin",
     "output_type": "stream",
     "text": [
      "첫 번째 숫자를 입력하세요:  3\n",
      "두 번째 숫자를 입력하세요:  4\n"
     ]
    },
    {
     "name": "stdout",
     "output_type": "stream",
     "text": [
      "3.0 + 4.0 = 7.0\n",
      "3.0 - 4.0 = -1.0\n",
      "3.0 * 4.0 = 12.0\n",
      "3.0 / 4.0 = 0.75\n"
     ]
    }
   ],
   "source": [
    "# calculator.py\n",
    "print(\"=== 간단한 계산기 ===\")\n",
    "\n",
    "# 사용자로부터 두 숫자 입력받기\n",
    "num1 = float(input(\"첫 번째 숫자를 입력하세요: \"))\n",
    "num2 = float(input(\"두 번째 숫자를 입력하세요: \"))\n",
    "\n",
    "# 계산 결과 출력\n",
    "print(f\"{num1} + {num2} = {num1 + num2}\")\n",
    "print(f\"{num1} - {num2} = {num1 - num2}\")\n",
    "print(f\"{num1} * {num2} = {num1 * num2}\")\n",
    "\n",
    "if num2 != 0:\n",
    "    print(f\"{num1} / {num2} = {num1 / num2}\")\n",
    "else:\n",
    "    print(\"0으로 나눌 수 없습니다.\")"
   ]
  },
  {
   "cell_type": "code",
   "execution_count": 37,
   "id": "5974fea2-e956-4694-845c-d81ac902d967",
   "metadata": {},
   "outputs": [
    {
     "name": "stdout",
     "output_type": "stream",
     "text": [
      "-f\n",
      "C:\\Users\\LG\\AppData\\Roaming\\jupyter\\runtime\\kernel-20289cbe-1470-4c69-b8a0-38b037d802a2.json\n"
     ]
    }
   ],
   "source": [
    "import sys\n",
    "\n",
    "args = sys.argv[1:]\n",
    "for i in args:\n",
    "    print(i)"
   ]
  },
  {
   "cell_type": "code",
   "execution_count": 38,
   "id": "59828208-fc51-4424-aab6-d18d25d49f86",
   "metadata": {},
   "outputs": [
    {
     "name": "stdout",
     "output_type": "stream",
     "text": [
      "-F C:\\USERS\\LG\\APPDATA\\ROAMING\\JUPYTER\\RUNTIME\\KERNEL-20289CBE-1470-4C69-B8A0-38B037D802A2.JSON "
     ]
    }
   ],
   "source": [
    "import sys\n",
    "args = sys.argv[1:]\n",
    "for i in args:\n",
    "    print(i.upper(), end=' ')"
   ]
  },
  {
   "cell_type": "code",
   "execution_count": null,
   "id": "0145b8f9-2c78-4562-ad59-303d2e949ab1",
   "metadata": {},
   "outputs": [],
   "source": []
  }
 ],
 "metadata": {
  "kernelspec": {
   "display_name": "Python 3 (ipykernel)",
   "language": "python",
   "name": "python3"
  },
  "language_info": {
   "codemirror_mode": {
    "name": "ipython",
    "version": 3
   },
   "file_extension": ".py",
   "mimetype": "text/x-python",
   "name": "python",
   "nbconvert_exporter": "python",
   "pygments_lexer": "ipython3",
   "version": "3.11.7"
  }
 },
 "nbformat": 4,
 "nbformat_minor": 5
}
