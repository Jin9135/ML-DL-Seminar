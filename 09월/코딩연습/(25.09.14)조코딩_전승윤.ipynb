{
 "cells": [
  {
   "cell_type": "code",
   "execution_count": null,
   "metadata": {},
   "outputs": [],
   "source": [
    "import re"
   ]
  },
  {
   "cell_type": "code",
   "execution_count": null,
   "metadata": {},
   "outputs": [],
   "source": [
    "p = re.compile('[a-z]+')\n",
    "m1 = p.match(\"python\")\n",
    "print(f\"'python' match: {m1}\")\n",
    "m2 = p.match(\"3 python\")\n",
    "print(f\"'3 python' match: {m2}\")"
   ]
  },
  {
   "cell_type": "code",
   "execution_count": null,
   "metadata": {},
   "outputs": [],
   "source": [
    "p = re.compile('[a-z]+')\n",
    "s1 = p.search(\"python\")\n",
    "print(f\"'python' search: {s1}\")\n",
    "s2 = p.search(\"3 python\")\n",
    "print(f\"'3 python' search: {s2}\")"
   ]
  },
  {
   "cell_type": "code",
   "execution_count": null,
   "metadata": {},
   "outputs": [],
   "source": [
    "p = re.compile('[a-z]+')\n",
    "result = p.findall(\"life is too short\")\n",
    "print(result)"
   ]
  },
  {
   "cell_type": "code",
   "execution_count": null,
   "metadata": {},
   "outputs": [],
   "source": [
    "p = re.compile('[a-z]+')\n",
    "result = p.finditer(\"life is too short\")\n",
    "print(result)\n",
    "for r in result:\n",
    "    print(r)"
   ]
  },
  {
   "cell_type": "code",
   "execution_count": null,
   "metadata": {},
   "outputs": [],
   "source": [
    "p = re.compile('[a-z]+')\n",
    "m = p.search(\"3 python\")\n",
    "if m:\n",
    "    print(\"'python'이라는 문자열과 매치되었습니다.\")\n",
    "    print(\"group():\", m.group())\n",
    "    print(\"start():\", m.start())\n",
    "    print(\"end():\", m.end())\n",
    "    print(\"span():\", m.span())"
   ]
  },
  {
   "cell_type": "code",
   "execution_count": null,
   "metadata": {},
   "outputs": [],
   "source": [
    "p = re.compile('[a-c]at')\n",
    "print(p.findall('bat cat dog rat'))"
   ]
  },
  {
   "cell_type": "code",
   "execution_count": null,
   "metadata": {},
   "outputs": [],
   "source": [
    "p = re.compile('a.b')\n",
    "print(p.findall('aab a0b acb addb'))"
   ]
  },
  {
   "cell_type": "code",
   "execution_count": null,
   "metadata": {},
   "outputs": [],
   "source": [
    "p1 = re.compile('ca*t')\n",
    "print(\"ca*t:\", p1.findall('ct cat caat caaaat'))\n",
    "p2 = re.compile('ca+t')\n",
    "print(\"ca+t:\", p2.findall('ct cat caat caaaat'))\n",
    "p3 = re.compile('ab?c')\n",
    "print(\"ab?c:\", p3.findall('ac abc abbc'))"
   ]
  },
  {
   "cell_type": "code",
   "execution_count": null,
   "metadata": {},
   "outputs": [],
   "source": [
    "p = re.compile('a.b', re.DOTALL)\n",
    "m = p.match('a\\nb')\n",
    "print(m)"
   ]
  },
  {
   "cell_type": "code",
   "execution_count": null,
   "metadata": {},
   "outputs": [],
   "source": [
    "p = re.compile('[a-z]+', re.I)\n",
    "print(p.findall('python Python PYTHON'))"
   ]
  },
  {
   "cell_type": "code",
   "execution_count": null,
   "metadata": {},
   "outputs": [],
   "source": [
    "data = \"\"\"\n",
    "python one\n",
    "life is too short\n",
    "python two\n",
    "you need python\n",
    "python three\n",
    "\"\"\"\n",
    "p = re.compile('^python\\s\\w+', re.M)\n",
    "print(p.findall(data))"
   ]
  },
  {
   "cell_type": "code",
   "execution_count": null,
   "metadata": {},
   "outputs": [],
   "source": [
    "p = re.compile(r'\\bclass\\b')\n",
    "print(p.search('no class at all'))\n",
    "print(p.search('the subclass is'))"
   ]
  },
  {
   "cell_type": "code",
   "execution_count": null,
   "metadata": {},
   "outputs": [],
   "source": [
    "p = re.compile('(ABC)+')\n",
    "m = p.search('ABCABCABC OK?')\n",
    "print(m)\n",
    "print(m.group())"
   ]
  },
  {
   "cell_type": "code",
   "execution_count": null,
   "metadata": {},
   "outputs": [],
   "source": [
    "p = re.compile(r\"(\\w+)\\s+\\d+[-]?\\d+[-]?\\d+\")\n",
    "m = p.search(\"park 010-1234-5678\")\n",
    "print(m.group(1))"
   ]
  },
  {
   "cell_type": "code",
   "execution_count": null,
   "metadata": {},
   "outputs": [],
   "source": [
    "p = re.compile('.*[.].*(?=exe$)')\n",
    "print(p.findall('test.py auto.exe run.bat script.exe'))\n",
    "p = re.compile('.*[.](?!bat$).*$', re.M)\n",
    "data = \"\"\"\n",
    "test.py\n",
    "auto.exe\n",
    "run.bat\n",
    "\"\"\"\n",
    "print(p.findall(data))"
   ]
  },
  {
   "cell_type": "code",
   "execution_count": null,
   "metadata": {},
   "outputs": [],
   "source": [
    "p = re.compile('(blue|white|red)')\n",
    "result = p.sub('color', 'blue socks and red shoes')\n",
    "print(result)"
   ]
  },
  {
   "cell_type": "code",
   "execution_count": null,
   "metadata": {},
   "outputs": [],
   "source": [
    "s = '<html><head><title>Title</title></head></html>'\n",
    "print(\"Greedy:\", re.match('<.*>', s).group())\n",
    "print(\"Non-Greedy:\", re.match('<.*?>', s).group())"
   ]
  }
 ],
 "metadata": {
  "kernelspec": {
   "display_name": "Python 3",
   "language": "python",
   "name": "python3"
  },
  "language_info": {
   "codemirror_mode": {
    "name": "ipython",
    "version": 3
   },
   "file_extension": ".py",
   "mimetype": "text/x-python",
   "name": "python",
   "nbconvert_exporter": "python",
   "pygments_lexer": "ipython3",
   "version": "3.9.7"
  }
 },
 "nbformat": 4,
 "nbformat_minor": 4
}
